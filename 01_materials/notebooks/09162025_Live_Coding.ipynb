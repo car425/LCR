{
 "cells": [
  {
   "cell_type": "code",
   "execution_count": 67,
   "id": "c32ef47d",
   "metadata": {},
   "outputs": [],
   "source": [
    "import numpy as np\n",
    "import pandas as pd\n",
    "from sklearn import set_config\n",
    "import matplotlib.pyplot as plt\n",
    "from sklearn.preprocessing import StandardScaler\n",
    "from sklearn.cluster import KMeans"
   ]
  },
  {
   "cell_type": "code",
   "execution_count": 68,
   "id": "cc56e573",
   "metadata": {},
   "outputs": [
    {
     "data": {
      "text/html": [
       "<div>\n",
       "<style scoped>\n",
       "    .dataframe tbody tr th:only-of-type {\n",
       "        vertical-align: middle;\n",
       "    }\n",
       "\n",
       "    .dataframe tbody tr th {\n",
       "        vertical-align: top;\n",
       "    }\n",
       "\n",
       "    .dataframe thead th {\n",
       "        text-align: right;\n",
       "    }\n",
       "</style>\n",
       "<table border=\"1\" class=\"dataframe\">\n",
       "  <thead>\n",
       "    <tr style=\"text-align: right;\">\n",
       "      <th></th>\n",
       "      <th>bill_length_mm</th>\n",
       "      <th>flipper_length_mm</th>\n",
       "    </tr>\n",
       "  </thead>\n",
       "  <tbody>\n",
       "    <tr>\n",
       "      <th>0</th>\n",
       "      <td>39.1</td>\n",
       "      <td>181</td>\n",
       "    </tr>\n",
       "    <tr>\n",
       "      <th>1</th>\n",
       "      <td>39.5</td>\n",
       "      <td>186</td>\n",
       "    </tr>\n",
       "    <tr>\n",
       "      <th>2</th>\n",
       "      <td>40.3</td>\n",
       "      <td>195</td>\n",
       "    </tr>\n",
       "    <tr>\n",
       "      <th>3</th>\n",
       "      <td>36.7</td>\n",
       "      <td>193</td>\n",
       "    </tr>\n",
       "    <tr>\n",
       "      <th>4</th>\n",
       "      <td>39.3</td>\n",
       "      <td>190</td>\n",
       "    </tr>\n",
       "    <tr>\n",
       "      <th>...</th>\n",
       "      <td>...</td>\n",
       "      <td>...</td>\n",
       "    </tr>\n",
       "    <tr>\n",
       "      <th>337</th>\n",
       "      <td>55.8</td>\n",
       "      <td>207</td>\n",
       "    </tr>\n",
       "    <tr>\n",
       "      <th>338</th>\n",
       "      <td>43.5</td>\n",
       "      <td>202</td>\n",
       "    </tr>\n",
       "    <tr>\n",
       "      <th>339</th>\n",
       "      <td>49.6</td>\n",
       "      <td>193</td>\n",
       "    </tr>\n",
       "    <tr>\n",
       "      <th>340</th>\n",
       "      <td>50.8</td>\n",
       "      <td>210</td>\n",
       "    </tr>\n",
       "    <tr>\n",
       "      <th>341</th>\n",
       "      <td>50.2</td>\n",
       "      <td>198</td>\n",
       "    </tr>\n",
       "  </tbody>\n",
       "</table>\n",
       "<p>342 rows × 2 columns</p>\n",
       "</div>"
      ],
      "text/plain": [
       "     bill_length_mm  flipper_length_mm\n",
       "0              39.1                181\n",
       "1              39.5                186\n",
       "2              40.3                195\n",
       "3              36.7                193\n",
       "4              39.3                190\n",
       "..              ...                ...\n",
       "337            55.8                207\n",
       "338            43.5                202\n",
       "339            49.6                193\n",
       "340            50.8                210\n",
       "341            50.2                198\n",
       "\n",
       "[342 rows x 2 columns]"
      ]
     },
     "execution_count": 68,
     "metadata": {},
     "output_type": "execute_result"
    }
   ],
   "source": [
    "# Output dataframes instead of arrays\n",
    "set_config(transform_output=\"pandas\")\n",
    "\n",
    "# Load in our data using pandas read csv function\n",
    "penguins = pd.read_csv(\"dataset/penguins.csv\")\n",
    "penguins"
   ]
  },
  {
   "cell_type": "code",
   "execution_count": 69,
   "id": "b6f8db65",
   "metadata": {},
   "outputs": [
    {
     "data": {
      "text/html": [
       "<div>\n",
       "<style scoped>\n",
       "    .dataframe tbody tr th:only-of-type {\n",
       "        vertical-align: middle;\n",
       "    }\n",
       "\n",
       "    .dataframe tbody tr th {\n",
       "        vertical-align: top;\n",
       "    }\n",
       "\n",
       "    .dataframe thead th {\n",
       "        text-align: right;\n",
       "    }\n",
       "</style>\n",
       "<table border=\"1\" class=\"dataframe\">\n",
       "  <thead>\n",
       "    <tr style=\"text-align: right;\">\n",
       "      <th></th>\n",
       "      <th>bill_length_mm</th>\n",
       "      <th>flipper_length_mm</th>\n",
       "    </tr>\n",
       "  </thead>\n",
       "  <tbody>\n",
       "    <tr>\n",
       "      <th>min</th>\n",
       "      <td>32.1</td>\n",
       "      <td>172</td>\n",
       "    </tr>\n",
       "    <tr>\n",
       "      <th>max</th>\n",
       "      <td>59.6</td>\n",
       "      <td>231</td>\n",
       "    </tr>\n",
       "  </tbody>\n",
       "</table>\n",
       "</div>"
      ],
      "text/plain": [
       "     bill_length_mm  flipper_length_mm\n",
       "min            32.1                172\n",
       "max            59.6                231"
      ]
     },
     "execution_count": 69,
     "metadata": {},
     "output_type": "execute_result"
    }
   ],
   "source": [
    "# Look at max and min values\n",
    "\n",
    "penguins.agg(['min', 'max'])"
   ]
  },
  {
   "cell_type": "code",
   "execution_count": 70,
   "id": "e6682deb",
   "metadata": {},
   "outputs": [],
   "source": [
    "# Need to standardize data before clustering.  Will start by making a copy.\n",
    "\n",
    "penguins_copy = penguins.copy()"
   ]
  },
  {
   "cell_type": "code",
   "execution_count": 71,
   "id": "1615543e",
   "metadata": {},
   "outputs": [
    {
     "data": {
      "text/html": [
       "<div>\n",
       "<style scoped>\n",
       "    .dataframe tbody tr th:only-of-type {\n",
       "        vertical-align: middle;\n",
       "    }\n",
       "\n",
       "    .dataframe tbody tr th {\n",
       "        vertical-align: top;\n",
       "    }\n",
       "\n",
       "    .dataframe thead th {\n",
       "        text-align: right;\n",
       "    }\n",
       "</style>\n",
       "<table border=\"1\" class=\"dataframe\">\n",
       "  <thead>\n",
       "    <tr style=\"text-align: right;\">\n",
       "      <th></th>\n",
       "      <th>bill_length_mm</th>\n",
       "      <th>flipper_length_mm</th>\n",
       "    </tr>\n",
       "  </thead>\n",
       "  <tbody>\n",
       "    <tr>\n",
       "      <th>0</th>\n",
       "      <td>-0.884499</td>\n",
       "      <td>-1.418347</td>\n",
       "    </tr>\n",
       "    <tr>\n",
       "      <th>1</th>\n",
       "      <td>-0.811126</td>\n",
       "      <td>-1.062250</td>\n",
       "    </tr>\n",
       "    <tr>\n",
       "      <th>2</th>\n",
       "      <td>-0.664380</td>\n",
       "      <td>-0.421277</td>\n",
       "    </tr>\n",
       "    <tr>\n",
       "      <th>3</th>\n",
       "      <td>-1.324737</td>\n",
       "      <td>-0.563715</td>\n",
       "    </tr>\n",
       "    <tr>\n",
       "      <th>4</th>\n",
       "      <td>-0.847812</td>\n",
       "      <td>-0.777373</td>\n",
       "    </tr>\n",
       "    <tr>\n",
       "      <th>...</th>\n",
       "      <td>...</td>\n",
       "      <td>...</td>\n",
       "    </tr>\n",
       "    <tr>\n",
       "      <th>337</th>\n",
       "      <td>2.178824</td>\n",
       "      <td>0.433355</td>\n",
       "    </tr>\n",
       "    <tr>\n",
       "      <th>338</th>\n",
       "      <td>-0.077396</td>\n",
       "      <td>0.077258</td>\n",
       "    </tr>\n",
       "    <tr>\n",
       "      <th>339</th>\n",
       "      <td>1.041543</td>\n",
       "      <td>-0.563715</td>\n",
       "    </tr>\n",
       "    <tr>\n",
       "      <th>340</th>\n",
       "      <td>1.261662</td>\n",
       "      <td>0.647013</td>\n",
       "    </tr>\n",
       "    <tr>\n",
       "      <th>341</th>\n",
       "      <td>1.151602</td>\n",
       "      <td>-0.207619</td>\n",
       "    </tr>\n",
       "  </tbody>\n",
       "</table>\n",
       "<p>342 rows × 2 columns</p>\n",
       "</div>"
      ],
      "text/plain": [
       "     bill_length_mm  flipper_length_mm\n",
       "0         -0.884499          -1.418347\n",
       "1         -0.811126          -1.062250\n",
       "2         -0.664380          -0.421277\n",
       "3         -1.324737          -0.563715\n",
       "4         -0.847812          -0.777373\n",
       "..              ...                ...\n",
       "337        2.178824           0.433355\n",
       "338       -0.077396           0.077258\n",
       "339        1.041543          -0.563715\n",
       "340        1.261662           0.647013\n",
       "341        1.151602          -0.207619\n",
       "\n",
       "[342 rows x 2 columns]"
      ]
     },
     "execution_count": 71,
     "metadata": {},
     "output_type": "execute_result"
    }
   ],
   "source": [
    "# Use standard scalar to get z score.  \n",
    "\n",
    "scaler = StandardScaler() #Initialize standard scaler\n",
    "standardized_penguins = scaler.fit_transform(penguins_copy)\n",
    "standardized_penguins\n",
    "\n"
   ]
  },
  {
   "cell_type": "code",
   "execution_count": 72,
   "id": "849fd764",
   "metadata": {},
   "outputs": [
    {
     "data": {
      "image/png": "[encoded data removed]",
      "text/plain": [
       "<Figure size 640x480 with 1 Axes>"
      ]
     },
     "metadata": {},
     "output_type": "display_data"
    }
   ],
   "source": [
    "# Can we detect any subtypes or groupings through visualization?\n",
    "\n",
    "# Scatter plot for bill_length_mm vs flipper_length_mm\n",
    "plt.scatter(standardized_penguins['flipper_length_mm'], standardized_penguins['bill_length_mm'])\n",
    "\n",
    "# Adding labels and title\n",
    "plt.title('Penguin Flipper Length vs Bill Length', fontsize=14)\n",
    "plt.ylabel('Bill Length (mm)', fontsize=12)\n",
    "plt.xlabel('Flipper Length (mm)', fontsize=12)\n",
    "\n",
    "# Display the plot\n",
    "plt.show()"
   ]
  },
  {
   "cell_type": "code",
   "execution_count": 73,
   "id": "79d29faa",
   "metadata": {},
   "outputs": [],
   "source": [
    "# Perform k-means clustering\n",
    "kmeans = KMeans(n_clusters = 5, random_state = 123, n_init = 10) # Initialize model and specify random state.  \n",
    "\n",
    "# Because of n_init = 10, will run model 10 different times and keep lowest inertia.  Default is 10."
   ]
  },
  {
   "cell_type": "code",
   "execution_count": 74,
   "id": "794044a3",
   "metadata": {},
   "outputs": [],
   "source": [
    "clusters = kmeans.fit(standardized_penguins)"
   ]
  },
  {
   "cell_type": "code",
   "execution_count": 75,
   "id": "41ab762c",
   "metadata": {},
   "outputs": [
    {
     "data": {
      "text/plain": [
       "array([1, 1, 4, 1, 1, 1, 1, 1, 4, 1, 1, 1, 1, 1, 1, 1, 4, 1, 4, 1, 1, 1,\n",
       "       1, 1, 1, 1, 1, 1, 1, 1, 1, 1, 1, 1, 1, 1, 4, 1, 1, 1, 4, 1, 4, 1,\n",
       "       1, 1, 1, 1, 4, 1, 1, 1, 4, 1, 4, 1, 4, 1, 1, 1, 4, 1, 4, 1, 4, 1,\n",
       "       4, 1, 4, 1, 1, 1, 4, 1, 4, 4, 1, 1, 4, 1, 4, 1, 1, 1, 4, 1, 1, 1,\n",
       "       1, 1, 4, 1, 1, 1, 2, 1, 4, 1, 4, 1, 4, 1, 1, 1, 1, 1, 1, 1, 4, 1,\n",
       "       4, 1, 4, 1, 4, 1, 1, 1, 4, 1, 1, 1, 4, 1, 4, 1, 4, 1, 2, 1, 4, 1,\n",
       "       1, 1, 4, 1, 4, 1, 1, 4, 1, 1, 4, 1, 1, 1, 1, 1, 1, 1, 4, 2, 3, 2,\n",
       "       3, 2, 2, 2, 2, 2, 2, 2, 3, 2, 2, 2, 3, 2, 3, 2, 3, 3, 2, 2, 2, 2,\n",
       "       2, 2, 2, 2, 3, 3, 2, 2, 3, 3, 3, 2, 2, 2, 2, 2, 3, 2, 3, 3, 2, 2,\n",
       "       3, 2, 2, 2, 3, 2, 3, 2, 2, 2, 2, 2, 3, 2, 2, 2, 3, 2, 3, 2, 3, 2,\n",
       "       3, 2, 2, 3, 2, 2, 3, 2, 3, 2, 2, 2, 3, 2, 3, 2, 3, 2, 3, 2, 3, 2,\n",
       "       3, 2, 3, 2, 3, 3, 3, 0, 3, 3, 3, 2, 3, 2, 2, 2, 3, 2, 2, 3, 3, 2,\n",
       "       3, 2, 3, 2, 3, 2, 2, 3, 2, 3, 4, 0, 0, 4, 0, 4, 4, 0, 4, 0, 4, 0,\n",
       "       4, 0, 4, 0, 0, 0, 4, 0, 4, 0, 4, 0, 4, 0, 0, 0, 4, 0, 1, 0, 4, 0,\n",
       "       0, 0, 0, 0, 4, 0, 2, 4, 0, 4, 0, 0, 0, 2, 0, 0, 0, 0, 4, 0, 4, 0,\n",
       "       4, 0, 0, 4, 0, 4, 4, 0, 4, 0, 0, 0], dtype=int32)"
      ]
     },
     "execution_count": 75,
     "metadata": {},
     "output_type": "execute_result"
    }
   ],
   "source": [
    "clusters.labels_\n",
    "\n",
    "# Five cluster solution."
   ]
  },
  {
   "cell_type": "code",
   "execution_count": 76,
   "id": "e7d8c35d",
   "metadata": {},
   "outputs": [],
   "source": [
    "standardized_penguins_with_clusters = standardized_penguins.copy()"
   ]
  },
  {
   "cell_type": "code",
   "execution_count": 77,
   "id": "8140e471",
   "metadata": {},
   "outputs": [],
   "source": [
    "standardized_penguins_with_clusters['Cluster'] = clusters.labels_"
   ]
  },
  {
   "cell_type": "code",
   "execution_count": 78,
   "id": "1a8496db",
   "metadata": {},
   "outputs": [
    {
     "data": {
      "text/html": [
       "<div>\n",
       "<style scoped>\n",
       "    .dataframe tbody tr th:only-of-type {\n",
       "        vertical-align: middle;\n",
       "    }\n",
       "\n",
       "    .dataframe tbody tr th {\n",
       "        vertical-align: top;\n",
       "    }\n",
       "\n",
       "    .dataframe thead th {\n",
       "        text-align: right;\n",
       "    }\n",
       "</style>\n",
       "<table border=\"1\" class=\"dataframe\">\n",
       "  <thead>\n",
       "    <tr style=\"text-align: right;\">\n",
       "      <th></th>\n",
       "      <th>bill_length_mm</th>\n",
       "      <th>flipper_length_mm</th>\n",
       "      <th>Cluster</th>\n",
       "    </tr>\n",
       "  </thead>\n",
       "  <tbody>\n",
       "    <tr>\n",
       "      <th>0</th>\n",
       "      <td>-0.884499</td>\n",
       "      <td>-1.418347</td>\n",
       "      <td>1</td>\n",
       "    </tr>\n",
       "    <tr>\n",
       "      <th>1</th>\n",
       "      <td>-0.811126</td>\n",
       "      <td>-1.062250</td>\n",
       "      <td>1</td>\n",
       "    </tr>\n",
       "    <tr>\n",
       "      <th>2</th>\n",
       "      <td>-0.664380</td>\n",
       "      <td>-0.421277</td>\n",
       "      <td>4</td>\n",
       "    </tr>\n",
       "    <tr>\n",
       "      <th>3</th>\n",
       "      <td>-1.324737</td>\n",
       "      <td>-0.563715</td>\n",
       "      <td>1</td>\n",
       "    </tr>\n",
       "    <tr>\n",
       "      <th>4</th>\n",
       "      <td>-0.847812</td>\n",
       "      <td>-0.777373</td>\n",
       "      <td>1</td>\n",
       "    </tr>\n",
       "    <tr>\n",
       "      <th>...</th>\n",
       "      <td>...</td>\n",
       "      <td>...</td>\n",
       "      <td>...</td>\n",
       "    </tr>\n",
       "    <tr>\n",
       "      <th>337</th>\n",
       "      <td>2.178824</td>\n",
       "      <td>0.433355</td>\n",
       "      <td>0</td>\n",
       "    </tr>\n",
       "    <tr>\n",
       "      <th>338</th>\n",
       "      <td>-0.077396</td>\n",
       "      <td>0.077258</td>\n",
       "      <td>4</td>\n",
       "    </tr>\n",
       "    <tr>\n",
       "      <th>339</th>\n",
       "      <td>1.041543</td>\n",
       "      <td>-0.563715</td>\n",
       "      <td>0</td>\n",
       "    </tr>\n",
       "    <tr>\n",
       "      <th>340</th>\n",
       "      <td>1.261662</td>\n",
       "      <td>0.647013</td>\n",
       "      <td>0</td>\n",
       "    </tr>\n",
       "    <tr>\n",
       "      <th>341</th>\n",
       "      <td>1.151602</td>\n",
       "      <td>-0.207619</td>\n",
       "      <td>0</td>\n",
       "    </tr>\n",
       "  </tbody>\n",
       "</table>\n",
       "<p>342 rows × 3 columns</p>\n",
       "</div>"
      ],
      "text/plain": [
       "     bill_length_mm  flipper_length_mm  Cluster\n",
       "0         -0.884499          -1.418347        1\n",
       "1         -0.811126          -1.062250        1\n",
       "2         -0.664380          -0.421277        4\n",
       "3         -1.324737          -0.563715        1\n",
       "4         -0.847812          -0.777373        1\n",
       "..              ...                ...      ...\n",
       "337        2.178824           0.433355        0\n",
       "338       -0.077396           0.077258        4\n",
       "339        1.041543          -0.563715        0\n",
       "340        1.261662           0.647013        0\n",
       "341        1.151602          -0.207619        0\n",
       "\n",
       "[342 rows x 3 columns]"
      ]
     },
     "execution_count": 78,
     "metadata": {},
     "output_type": "execute_result"
    }
   ],
   "source": [
    "standardized_penguins_with_clusters"
   ]
  },
  {
   "cell_type": "code",
   "execution_count": 79,
   "id": "bc367211",
   "metadata": {},
   "outputs": [
    {
     "data": {
      "image/png": "[encoded data removed]",
      "text/plain": [
       "<Figure size 640x480 with 1 Axes>"
      ]
     },
     "metadata": {},
     "output_type": "display_data"
    }
   ],
   "source": [
    "# Visualize clusters\n",
    "\n",
    "# Plot the clusters\n",
    "plt.scatter(standardized_penguins_with_clusters['flipper_length_mm'], standardized_penguins_with_clusters['bill_length_mm'], c=standardized_penguins_with_clusters['Cluster'])\n",
    "plt.xlabel('Flipper Length (mm)')\n",
    "plt.ylabel('Bill Length (mm)')\n",
    "plt.title('K-Means Clustering of Penguins')\n",
    "plt.show()"
   ]
  },
  {
   "cell_type": "code",
   "execution_count": 80,
   "id": "b6bfabbd",
   "metadata": {},
   "outputs": [
    {
     "data": {
      "text/plain": [
       "91.47610853298526"
      ]
     },
     "execution_count": 80,
     "metadata": {},
     "output_type": "execute_result"
    }
   ],
   "source": [
    "# We arbitrarily chose k = 5 to start.  Will need to determine optimal value of k.  Need to use elbow plot of WSSD vs. k\n",
    "\n",
    "clusters.inertia_\n",
    "\n",
    "# Inertia is sum of total WSSD across all clusters for model with k means 5 clusters.  Tells us how tightly points are clustered around their centroid.\n",
    "# inertia = sum(WSSD for each cluster), across all five clusters.\n",
    "\n"
   ]
  },
  {
   "cell_type": "code",
   "execution_count": 81,
   "id": "16ae42fe",
   "metadata": {},
   "outputs": [
    {
     "data": {
      "text/html": [
       "<div>\n",
       "<style scoped>\n",
       "    .dataframe tbody tr th:only-of-type {\n",
       "        vertical-align: middle;\n",
       "    }\n",
       "\n",
       "    .dataframe tbody tr th {\n",
       "        vertical-align: top;\n",
       "    }\n",
       "\n",
       "    .dataframe thead th {\n",
       "        text-align: right;\n",
       "    }\n",
       "</style>\n",
       "<table border=\"1\" class=\"dataframe\">\n",
       "  <thead>\n",
       "    <tr style=\"text-align: right;\">\n",
       "      <th></th>\n",
       "      <th>k</th>\n",
       "      <th>wssd</th>\n",
       "    </tr>\n",
       "  </thead>\n",
       "  <tbody>\n",
       "  </tbody>\n",
       "</table>\n",
       "</div>"
      ],
      "text/plain": [
       "Empty DataFrame\n",
       "Columns: [k, wssd]\n",
       "Index: []"
      ]
     },
     "execution_count": 81,
     "metadata": {},
     "output_type": "execute_result"
    }
   ],
   "source": [
    "# find optimal value of k\n",
    "\n",
    "penguin_clust_ks = pd.DataFrame(columns = ['k', 'wssd'])\n",
    "penguin_clust_ks"
   ]
  },
  {
   "cell_type": "code",
   "execution_count": 82,
   "id": "9e061522",
   "metadata": {},
   "outputs": [
    {
     "name": "stderr",
     "output_type": "stream",
     "text": [
      "/var/folders/lk/v5dfvh9d0799xjl8_99hhnhw0000gn/T/ipykernel_15379/3295732614.py:7: FutureWarning: The behavior of DataFrame concatenation with empty or all-NA entries is deprecated. In a future version, this will no longer exclude empty or all-NA columns when determining the result dtypes. To retain the old behavior, exclude the relevant entries before the concat operation.\n",
      "  penguin_clust_ks = pd.concat([penguin_clust_ks, current_k], ignore_index= True)  # avoid duplicates in index values.\n"
     ]
    }
   ],
   "source": [
    "# specify range\n",
    "\n",
    "for k in range(1, 11):\n",
    "    kmeans = KMeans(n_clusters= k, random_state=123)\n",
    "    kmeans.fit(standardized_penguins)\n",
    "    current_k = pd.DataFrame({'k': [k], 'wssd': [kmeans.inertia_]})\n",
    "    penguin_clust_ks = pd.concat([penguin_clust_ks, current_k], ignore_index= True)  # avoid duplicates in index values.\n",
    "\n",
    "    # Previous versions of pandas may have used append instead of concat.\n"
   ]
  },
  {
   "cell_type": "code",
   "execution_count": 83,
   "id": "93ba0954",
   "metadata": {},
   "outputs": [
    {
     "data": {
      "text/html": [
       "<div>\n",
       "<style scoped>\n",
       "    .dataframe tbody tr th:only-of-type {\n",
       "        vertical-align: middle;\n",
       "    }\n",
       "\n",
       "    .dataframe tbody tr th {\n",
       "        vertical-align: top;\n",
       "    }\n",
       "\n",
       "    .dataframe thead th {\n",
       "        text-align: right;\n",
       "    }\n",
       "</style>\n",
       "<table border=\"1\" class=\"dataframe\">\n",
       "  <thead>\n",
       "    <tr style=\"text-align: right;\">\n",
       "      <th></th>\n",
       "      <th>k</th>\n",
       "      <th>wssd</th>\n",
       "    </tr>\n",
       "  </thead>\n",
       "  <tbody>\n",
       "    <tr>\n",
       "      <th>0</th>\n",
       "      <td>1</td>\n",
       "      <td>684.000000</td>\n",
       "    </tr>\n",
       "    <tr>\n",
       "      <th>1</th>\n",
       "      <td>2</td>\n",
       "      <td>247.016625</td>\n",
       "    </tr>\n",
       "    <tr>\n",
       "      <th>2</th>\n",
       "      <td>3</td>\n",
       "      <td>157.815322</td>\n",
       "    </tr>\n",
       "    <tr>\n",
       "      <th>3</th>\n",
       "      <td>4</td>\n",
       "      <td>128.451298</td>\n",
       "    </tr>\n",
       "    <tr>\n",
       "      <th>4</th>\n",
       "      <td>5</td>\n",
       "      <td>94.061233</td>\n",
       "    </tr>\n",
       "    <tr>\n",
       "      <th>5</th>\n",
       "      <td>6</td>\n",
       "      <td>79.419564</td>\n",
       "    </tr>\n",
       "    <tr>\n",
       "      <th>6</th>\n",
       "      <td>7</td>\n",
       "      <td>69.965331</td>\n",
       "    </tr>\n",
       "    <tr>\n",
       "      <th>7</th>\n",
       "      <td>8</td>\n",
       "      <td>60.616734</td>\n",
       "    </tr>\n",
       "    <tr>\n",
       "      <th>8</th>\n",
       "      <td>9</td>\n",
       "      <td>55.030936</td>\n",
       "    </tr>\n",
       "    <tr>\n",
       "      <th>9</th>\n",
       "      <td>10</td>\n",
       "      <td>52.111475</td>\n",
       "    </tr>\n",
       "  </tbody>\n",
       "</table>\n",
       "</div>"
      ],
      "text/plain": [
       "    k        wssd\n",
       "0   1  684.000000\n",
       "1   2  247.016625\n",
       "2   3  157.815322\n",
       "3   4  128.451298\n",
       "4   5   94.061233\n",
       "5   6   79.419564\n",
       "6   7   69.965331\n",
       "7   8   60.616734\n",
       "8   9   55.030936\n",
       "9  10   52.111475"
      ]
     },
     "execution_count": 83,
     "metadata": {},
     "output_type": "execute_result"
    }
   ],
   "source": [
    "penguin_clust_ks"
   ]
  },
  {
   "cell_type": "code",
   "execution_count": 84,
   "id": "84b29686",
   "metadata": {},
   "outputs": [
    {
     "data": {
      "image/png": "[encoded data removed]",
      "text/plain": [
       "<Figure size 800x600 with 1 Axes>"
      ]
     },
     "metadata": {},
     "output_type": "display_data"
    }
   ],
   "source": [
    "# Create the elbow plot\n",
    "plt.figure(figsize=(8, 6))\n",
    "plt.plot(penguin_clust_ks['k'], penguin_clust_ks['wssd'], marker='o')\n",
    "plt.xlabel('Number of Clusters (k)')\n",
    "plt.ylabel('Within-Cluster Sum of Squares (WSSD)')\n",
    "plt.title('Elbow Plot for K-Means Clustering')\n",
    "#plt.xticks(penguin_clust_ks['k'])  # Optional: to ensure all k values are shown on the x-axis\n",
    "plt.grid(True)\n",
    "plt.show()"
   ]
  },
  {
   "cell_type": "code",
   "execution_count": 93,
   "id": "77b8c1a9",
   "metadata": {},
   "outputs": [
    {
     "data": {
      "text/plain": [
       "10"
      ]
     },
     "execution_count": 93,
     "metadata": {},
     "output_type": "execute_result"
    }
   ],
   "source": [
    "# To get the individual WSSD per cluster, you can use the labels and cluster centers from the fitted model. This is not built in though.\n",
    "\n",
    "kmeans.n_clusters"
   ]
  },
  {
   "cell_type": "code",
   "execution_count": 107,
   "id": "2a9f677d",
   "metadata": {},
   "outputs": [],
   "source": [
    "\n",
    "centroids = kmeans.cluster_centers_"
   ]
  },
  {
   "cell_type": "code",
   "execution_count": 103,
   "id": "124f9846",
   "metadata": {},
   "outputs": [
    {
     "data": {
      "text/plain": [
       "array([[ 0.97955518,  1.12344509],\n",
       "       [-0.62468612, -0.7820432 ],\n",
       "       [ 0.30241757,  1.15392637],\n",
       "       [ 1.33255594, -0.20184426],\n",
       "       [-1.23443155, -1.30512625],\n",
       "       [-1.40197154, -0.5918281 ],\n",
       "       [ 0.34021905, -0.59457691],\n",
       "       [-0.33332769,  0.35196131],\n",
       "       [ 1.37172126,  1.82344972],\n",
       "       [ 0.43409888,  0.69083989]])"
      ]
     },
     "execution_count": 103,
     "metadata": {},
     "output_type": "execute_result"
    }
   ],
   "source": [
    "centroids"
   ]
  },
  {
   "cell_type": "code",
   "execution_count": 117,
   "id": "340755e2",
   "metadata": {},
   "outputs": [
    {
     "data": {
      "text/plain": [
       "array([4, 1, 1, 5, 1, 4, 1, 5, 1, 4, 4, 1, 1, 5, 4, 5, 1, 4, 6, 4, 4, 5,\n",
       "       4, 4, 5, 1, 1, 4, 4, 4, 4, 1, 1, 5, 1, 1, 1, 4, 1, 4, 1, 4, 6, 4,\n",
       "       1, 1, 4, 5, 1, 1, 1, 5, 7, 5, 1, 1, 1, 4, 5, 4, 1, 4, 1, 4, 1, 5,\n",
       "       1, 5, 7, 5, 1, 1, 6, 5, 1, 1, 4, 4, 1, 5, 6, 4, 5, 5, 1, 5, 5, 1,\n",
       "       1, 5, 7, 4, 1, 4, 7, 5, 1, 4, 6, 5, 7, 4, 5, 5, 1, 5, 5, 4, 6, 5,\n",
       "       6, 1, 1, 1, 1, 1, 5, 5, 1, 4, 5, 4, 7, 4, 7, 1, 1, 1, 9, 1, 6, 5,\n",
       "       5, 4, 1, 5, 7, 4, 1, 1, 1, 5, 1, 5, 4, 1, 4, 5, 5, 4, 7, 9, 8, 9,\n",
       "       0, 0, 9, 9, 2, 7, 2, 7, 0, 2, 0, 9, 0, 7, 0, 9, 0, 0, 2, 9, 2, 2,\n",
       "       2, 2, 0, 9, 0, 2, 7, 9, 8, 0, 0, 7, 2, 7, 9, 7, 8, 9, 0, 8, 2, 9,\n",
       "       8, 9, 2, 9, 0, 9, 8, 2, 2, 7, 2, 7, 8, 9, 2, 2, 8, 2, 8, 9, 8, 2,\n",
       "       8, 0, 2, 0, 2, 2, 8, 9, 0, 2, 2, 0, 8, 9, 8, 9, 8, 2, 0, 9, 8, 0,\n",
       "       8, 9, 8, 2, 8, 0, 2, 3, 8, 0, 8, 2, 8, 2, 2, 7, 8, 7, 9, 0, 8, 2,\n",
       "       8, 2, 8, 2, 0, 9, 2, 8, 9, 0, 6, 3, 3, 6, 3, 6, 6, 3, 6, 3, 6, 3,\n",
       "       6, 3, 6, 3, 3, 3, 6, 3, 1, 6, 1, 3, 6, 3, 3, 3, 6, 3, 1, 3, 1, 3,\n",
       "       3, 6, 6, 0, 6, 3, 0, 6, 3, 6, 3, 3, 3, 0, 3, 3, 3, 3, 6, 3, 1, 3,\n",
       "       6, 3, 3, 6, 3, 6, 6, 3, 7, 3, 0, 3], dtype=int32)"
      ]
     },
     "execution_count": 117,
     "metadata": {},
     "output_type": "execute_result"
    }
   ],
   "source": [
    "kmeans.labels_"
   ]
  },
  {
   "cell_type": "code",
   "execution_count": 118,
   "id": "74198ead",
   "metadata": {},
   "outputs": [
    {
     "data": {
      "text/plain": [
       "52.11147457002744"
      ]
     },
     "execution_count": 118,
     "metadata": {},
     "output_type": "execute_result"
    }
   ],
   "source": [
    "kmeans.inertia_"
   ]
  },
  {
   "cell_type": "code",
   "execution_count": 111,
   "id": "df6b6792",
   "metadata": {},
   "outputs": [],
   "source": [
    "output = pd.DataFrame(centroids, columns = ['coordinate_1', 'coordinate_2'])"
   ]
  },
  {
   "cell_type": "code",
   "execution_count": 113,
   "id": "e6916dbd",
   "metadata": {},
   "outputs": [
    {
     "data": {
      "text/html": [
       "<div>\n",
       "<style scoped>\n",
       "    .dataframe tbody tr th:only-of-type {\n",
       "        vertical-align: middle;\n",
       "    }\n",
       "\n",
       "    .dataframe tbody tr th {\n",
       "        vertical-align: top;\n",
       "    }\n",
       "\n",
       "    .dataframe thead th {\n",
       "        text-align: right;\n",
       "    }\n",
       "</style>\n",
       "<table border=\"1\" class=\"dataframe\">\n",
       "  <thead>\n",
       "    <tr style=\"text-align: right;\">\n",
       "      <th></th>\n",
       "      <th>coordinate_1</th>\n",
       "      <th>coordinate_2</th>\n",
       "    </tr>\n",
       "  </thead>\n",
       "  <tbody>\n",
       "    <tr>\n",
       "      <th>0</th>\n",
       "      <td>0.979555</td>\n",
       "      <td>1.123445</td>\n",
       "    </tr>\n",
       "    <tr>\n",
       "      <th>1</th>\n",
       "      <td>-0.624686</td>\n",
       "      <td>-0.782043</td>\n",
       "    </tr>\n",
       "    <tr>\n",
       "      <th>2</th>\n",
       "      <td>0.302418</td>\n",
       "      <td>1.153926</td>\n",
       "    </tr>\n",
       "    <tr>\n",
       "      <th>3</th>\n",
       "      <td>1.332556</td>\n",
       "      <td>-0.201844</td>\n",
       "    </tr>\n",
       "    <tr>\n",
       "      <th>4</th>\n",
       "      <td>-1.234432</td>\n",
       "      <td>-1.305126</td>\n",
       "    </tr>\n",
       "    <tr>\n",
       "      <th>5</th>\n",
       "      <td>-1.401972</td>\n",
       "      <td>-0.591828</td>\n",
       "    </tr>\n",
       "    <tr>\n",
       "      <th>6</th>\n",
       "      <td>0.340219</td>\n",
       "      <td>-0.594577</td>\n",
       "    </tr>\n",
       "    <tr>\n",
       "      <th>7</th>\n",
       "      <td>-0.333328</td>\n",
       "      <td>0.351961</td>\n",
       "    </tr>\n",
       "    <tr>\n",
       "      <th>8</th>\n",
       "      <td>1.371721</td>\n",
       "      <td>1.823450</td>\n",
       "    </tr>\n",
       "    <tr>\n",
       "      <th>9</th>\n",
       "      <td>0.434099</td>\n",
       "      <td>0.690840</td>\n",
       "    </tr>\n",
       "  </tbody>\n",
       "</table>\n",
       "</div>"
      ],
      "text/plain": [
       "   coordinate_1  coordinate_2\n",
       "0      0.979555      1.123445\n",
       "1     -0.624686     -0.782043\n",
       "2      0.302418      1.153926\n",
       "3      1.332556     -0.201844\n",
       "4     -1.234432     -1.305126\n",
       "5     -1.401972     -0.591828\n",
       "6      0.340219     -0.594577\n",
       "7     -0.333328      0.351961\n",
       "8      1.371721      1.823450\n",
       "9      0.434099      0.690840"
      ]
     },
     "execution_count": 113,
     "metadata": {},
     "output_type": "execute_result"
    }
   ],
   "source": [
    "output"
   ]
  },
  {
   "cell_type": "code",
   "execution_count": null,
   "id": "9548d3c0",
   "metadata": {},
   "outputs": [],
   "source": [
    "for k in range(kmeans.n_clusters):\n",
    "    current_k = pd.DataFrame({'k': [k], 'wssd': [kmeans.inertia_]})\n",
    "    \n",
    "    output = pd.concat([output, current_k], ignore_index= True)\n",
    "\n"
   ]
  },
  {
   "cell_type": "code",
   "execution_count": 115,
   "id": "45171302",
   "metadata": {},
   "outputs": [
    {
     "data": {
      "text/html": [
       "<div>\n",
       "<style scoped>\n",
       "    .dataframe tbody tr th:only-of-type {\n",
       "        vertical-align: middle;\n",
       "    }\n",
       "\n",
       "    .dataframe tbody tr th {\n",
       "        vertical-align: top;\n",
       "    }\n",
       "\n",
       "    .dataframe thead th {\n",
       "        text-align: right;\n",
       "    }\n",
       "</style>\n",
       "<table border=\"1\" class=\"dataframe\">\n",
       "  <thead>\n",
       "    <tr style=\"text-align: right;\">\n",
       "      <th></th>\n",
       "      <th>coordinate_1</th>\n",
       "      <th>coordinate_2</th>\n",
       "      <th>k</th>\n",
       "      <th>wssd</th>\n",
       "    </tr>\n",
       "  </thead>\n",
       "  <tbody>\n",
       "    <tr>\n",
       "      <th>0</th>\n",
       "      <td>0.979555</td>\n",
       "      <td>1.123445</td>\n",
       "      <td>NaN</td>\n",
       "      <td>NaN</td>\n",
       "    </tr>\n",
       "    <tr>\n",
       "      <th>1</th>\n",
       "      <td>-0.624686</td>\n",
       "      <td>-0.782043</td>\n",
       "      <td>NaN</td>\n",
       "      <td>NaN</td>\n",
       "    </tr>\n",
       "    <tr>\n",
       "      <th>2</th>\n",
       "      <td>0.302418</td>\n",
       "      <td>1.153926</td>\n",
       "      <td>NaN</td>\n",
       "      <td>NaN</td>\n",
       "    </tr>\n",
       "    <tr>\n",
       "      <th>3</th>\n",
       "      <td>1.332556</td>\n",
       "      <td>-0.201844</td>\n",
       "      <td>NaN</td>\n",
       "      <td>NaN</td>\n",
       "    </tr>\n",
       "    <tr>\n",
       "      <th>4</th>\n",
       "      <td>-1.234432</td>\n",
       "      <td>-1.305126</td>\n",
       "      <td>NaN</td>\n",
       "      <td>NaN</td>\n",
       "    </tr>\n",
       "    <tr>\n",
       "      <th>5</th>\n",
       "      <td>-1.401972</td>\n",
       "      <td>-0.591828</td>\n",
       "      <td>NaN</td>\n",
       "      <td>NaN</td>\n",
       "    </tr>\n",
       "    <tr>\n",
       "      <th>6</th>\n",
       "      <td>0.340219</td>\n",
       "      <td>-0.594577</td>\n",
       "      <td>NaN</td>\n",
       "      <td>NaN</td>\n",
       "    </tr>\n",
       "    <tr>\n",
       "      <th>7</th>\n",
       "      <td>-0.333328</td>\n",
       "      <td>0.351961</td>\n",
       "      <td>NaN</td>\n",
       "      <td>NaN</td>\n",
       "    </tr>\n",
       "    <tr>\n",
       "      <th>8</th>\n",
       "      <td>1.371721</td>\n",
       "      <td>1.823450</td>\n",
       "      <td>NaN</td>\n",
       "      <td>NaN</td>\n",
       "    </tr>\n",
       "    <tr>\n",
       "      <th>9</th>\n",
       "      <td>0.434099</td>\n",
       "      <td>0.690840</td>\n",
       "      <td>NaN</td>\n",
       "      <td>NaN</td>\n",
       "    </tr>\n",
       "    <tr>\n",
       "      <th>10</th>\n",
       "      <td>NaN</td>\n",
       "      <td>NaN</td>\n",
       "      <td>0.0</td>\n",
       "      <td>52.111475</td>\n",
       "    </tr>\n",
       "    <tr>\n",
       "      <th>11</th>\n",
       "      <td>NaN</td>\n",
       "      <td>NaN</td>\n",
       "      <td>1.0</td>\n",
       "      <td>52.111475</td>\n",
       "    </tr>\n",
       "    <tr>\n",
       "      <th>12</th>\n",
       "      <td>NaN</td>\n",
       "      <td>NaN</td>\n",
       "      <td>2.0</td>\n",
       "      <td>52.111475</td>\n",
       "    </tr>\n",
       "    <tr>\n",
       "      <th>13</th>\n",
       "      <td>NaN</td>\n",
       "      <td>NaN</td>\n",
       "      <td>3.0</td>\n",
       "      <td>52.111475</td>\n",
       "    </tr>\n",
       "    <tr>\n",
       "      <th>14</th>\n",
       "      <td>NaN</td>\n",
       "      <td>NaN</td>\n",
       "      <td>4.0</td>\n",
       "      <td>52.111475</td>\n",
       "    </tr>\n",
       "    <tr>\n",
       "      <th>15</th>\n",
       "      <td>NaN</td>\n",
       "      <td>NaN</td>\n",
       "      <td>5.0</td>\n",
       "      <td>52.111475</td>\n",
       "    </tr>\n",
       "    <tr>\n",
       "      <th>16</th>\n",
       "      <td>NaN</td>\n",
       "      <td>NaN</td>\n",
       "      <td>6.0</td>\n",
       "      <td>52.111475</td>\n",
       "    </tr>\n",
       "    <tr>\n",
       "      <th>17</th>\n",
       "      <td>NaN</td>\n",
       "      <td>NaN</td>\n",
       "      <td>7.0</td>\n",
       "      <td>52.111475</td>\n",
       "    </tr>\n",
       "    <tr>\n",
       "      <th>18</th>\n",
       "      <td>NaN</td>\n",
       "      <td>NaN</td>\n",
       "      <td>8.0</td>\n",
       "      <td>52.111475</td>\n",
       "    </tr>\n",
       "    <tr>\n",
       "      <th>19</th>\n",
       "      <td>NaN</td>\n",
       "      <td>NaN</td>\n",
       "      <td>9.0</td>\n",
       "      <td>52.111475</td>\n",
       "    </tr>\n",
       "  </tbody>\n",
       "</table>\n",
       "</div>"
      ],
      "text/plain": [
       "    coordinate_1  coordinate_2    k       wssd\n",
       "0       0.979555      1.123445  NaN        NaN\n",
       "1      -0.624686     -0.782043  NaN        NaN\n",
       "2       0.302418      1.153926  NaN        NaN\n",
       "3       1.332556     -0.201844  NaN        NaN\n",
       "4      -1.234432     -1.305126  NaN        NaN\n",
       "5      -1.401972     -0.591828  NaN        NaN\n",
       "6       0.340219     -0.594577  NaN        NaN\n",
       "7      -0.333328      0.351961  NaN        NaN\n",
       "8       1.371721      1.823450  NaN        NaN\n",
       "9       0.434099      0.690840  NaN        NaN\n",
       "10           NaN           NaN  0.0  52.111475\n",
       "11           NaN           NaN  1.0  52.111475\n",
       "12           NaN           NaN  2.0  52.111475\n",
       "13           NaN           NaN  3.0  52.111475\n",
       "14           NaN           NaN  4.0  52.111475\n",
       "15           NaN           NaN  5.0  52.111475\n",
       "16           NaN           NaN  6.0  52.111475\n",
       "17           NaN           NaN  7.0  52.111475\n",
       "18           NaN           NaN  8.0  52.111475\n",
       "19           NaN           NaN  9.0  52.111475"
      ]
     },
     "execution_count": 115,
     "metadata": {},
     "output_type": "execute_result"
    }
   ],
   "source": [
    "output"
   ]
  }
 ],
 "metadata": {
  "kernelspec": {
   "display_name": "dsi_participant_1",
   "language": "python",
   "name": "python3"
  },
  "language_info": {
   "codemirror_mode": {
    "name": "ipython",
    "version": 3
   },
   "file_extension": ".py",
   "mimetype": "text/x-python",
   "name": "python",
   "nbconvert_exporter": "python",
   "pygments_lexer": "ipython3",
   "version": "3.10.14"
  }
 },
 "nbformat": 4,
 "nbformat_minor": 5
}
